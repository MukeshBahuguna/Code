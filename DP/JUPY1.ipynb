{
 "metadata": {
  "language_info": {
   "codemirror_mode": {
    "name": "ipython",
    "version": 3
   },
   "file_extension": ".py",
   "mimetype": "text/x-python",
   "name": "python",
   "nbconvert_exporter": "python",
   "pygments_lexer": "ipython3",
   "version": "3.7.2"
  },
  "orig_nbformat": 2,
  "kernelspec": {
   "name": "python372jvsc74a57bd0a2ce78c8f06ce061cf8b891d221f63cb9a07ee8db4d6e63dff496f47d2d55a03",
   "display_name": "Python 3.7.2 32-bit"
  },
  "metadata": {
   "interpreter": {
    "hash": "a2ce78c8f06ce061cf8b891d221f63cb9a07ee8db4d6e63dff496f47d2d55a03"
   }
  }
 },
 "nbformat": 4,
 "nbformat_minor": 2,
 "cells": [
  {
   "source": [
    "***Dynamic Programming***"
   ],
   "cell_type": "markdown",
   "metadata": {}
  },
  {
   "cell_type": "code",
   "execution_count": 79,
   "metadata": {},
   "outputs": [
    {
     "output_type": "stream",
     "name": "stdout",
     "text": [
      "13\n"
     ]
    }
   ],
   "source": [
    "#0-1 Kanpsack\n",
    "#Recursion\n",
    "\n",
    "def knap(w,v,cap,n):\n",
    "    if n==0 or cap==0:\n",
    "        return 0\n",
    "\n",
    "    if w[n-1]<=cap:\n",
    "        b=knap(w,v,cap,n-1)  \n",
    "        a=v[n-1]+ knap(w,v,cap-w[n-1],n-1) \n",
    "        return max(a,b) \n",
    "\n",
    "    elif w[n-1]>cap :\n",
    "        return knap(w,v,cap,n-1)\n",
    "print(knap([3,2,1],[4,3,6],5,3))"
   ]
  },
  {
   "cell_type": "code",
   "execution_count": null,
   "metadata": {},
   "outputs": [],
   "source": [
    "#0-1 same as Above(rec) Using python slicing \n",
    "def knap(w,v,cap):\n",
    "    if len(w)==0 or cap==0:\n",
    "        return 0\n",
    "\n",
    "    if w[-1]<=cap:\n",
    "        b=knap(w[:-1],v[:-1],cap)  \n",
    "        a=v[-1]+ knap(w[:-1],v[:-1],cap-w[-1]) \n",
    "        return max(a,b) \n",
    "\n",
    "    elif w[-1]>cap :\n",
    "        return knap(w[:-1],v[:-1],cap)\n",
    "print(knap([2,3,1],[4,3,6],6))"
   ]
  },
  {
   "source": [
    "**0-1 Kanpsack Memoization/top-down**"
   ],
   "cell_type": "markdown",
   "metadata": {}
  },
  {
   "cell_type": "code",
   "execution_count": 37,
   "metadata": {},
   "outputs": [
    {
     "output_type": "stream",
     "name": "stdout",
     "text": [
      "500\n"
     ]
    }
   ],
   "source": [
    "\n",
    "n=4\n",
    "cap=4\n",
    "\n",
    "#these vars can be defined statically which depends upon the constraints\n",
    "#if lets say n<=100 and cap<=1000\n",
    "# so t=[[-1 for i in range(103)] for j in range(1003)]\n",
    "\n",
    "t=[[-1 for i in range(n+2)] for j in range(cap+2)]\n",
    "def knap(w,v,cap,n):\n",
    "    if n==0 or cap==0:\n",
    "        return 0\n",
    "    \n",
    "    if t[n][cap]!=-1:\n",
    "        return t[n][cap]\n",
    "\n",
    "    if w[n-1]<=cap:\n",
    "        b=knap(w,v,cap,n-1)  \n",
    "        a=v[n-1]+ knap(w,v,cap-w[n-1],n-1) \n",
    "        t[n][cap]=max(a,b)\n",
    "        return t[n][cap]\n",
    "\n",
    "    elif w[n-1]>cap :\n",
    "        t[n][cap]=knap(w,v,cap,n-1)\n",
    "        return t[n][cap]\n",
    "print(knap([2,1,3],[200,100,300],5,3))\n",
    "    \n"
   ]
  },
  {
   "source": [
    "**Tabulation or bottom up (DP)**"
   ],
   "cell_type": "markdown",
   "metadata": {}
  },
  {
   "cell_type": "code",
   "execution_count": 38,
   "metadata": {},
   "outputs": [
    {
     "output_type": "execute_result",
     "data": {
      "text/plain": [
       "500"
      ]
     },
     "metadata": {},
     "execution_count": 38
    }
   ],
   "source": [
    "w=5\n",
    "n=3\n",
    "val=[200,100,300]\n",
    "wt=[2,1,3]\n",
    "t=[[0 for i in range(w+1)] for j in range(n+1)]\n",
    "        \n",
    "for i in range(1,n+1):\n",
    "    for j in range(1,w+1):\n",
    "        if wt[i-1]<=j:\n",
    "            t[i][j]=max(val[i-1]+ t[i-1][j-wt[i-1]] , t[i-1][j])\n",
    "        else:\n",
    "            t[i][j]=t[i-1][j]\n",
    "t[n][w]"
   ]
  },
  {
   "source": [
    "**SUBSET SUM PROBLEM**"
   ],
   "cell_type": "markdown",
   "metadata": {}
  },
  {
   "cell_type": "code",
   "execution_count": 3,
   "metadata": {},
   "outputs": [
    {
     "output_type": "execute_result",
     "data": {
      "text/plain": [
       "False"
      ]
     },
     "metadata": {},
     "execution_count": 3
    }
   ],
   "source": [
    "# forget any val array just weight and capacity\n",
    "wt=[2,5,3]\n",
    "n=len(wt)\n",
    "w=9 #sum of subset should be equal to this w\n",
    "# the matrix would contain only the bool values \n",
    "\n",
    "t=[[False for i in range(w+1)] for j in range(n+1)]\n",
    "for i in t:\n",
    "    i[0]=True\n",
    "        \n",
    "for i in range(1,n+1):\n",
    "    for j in range(1,w+1):\n",
    "        if wt[i-1]<=j:\n",
    "            t[i][j]=t[i-1][j-wt[i-1]] or t[i-1][j]\n",
    "            #print(\"taken\",t[i][j])\n",
    "        else:\n",
    "            t[i][j]=t[i-1][j]\n",
    "            #print(\"Not taken\",t[i][j])\n",
    "t[n][w]"
   ]
  },
  {
   "cell_type": "code",
   "execution_count": null,
   "metadata": {},
   "outputs": [],
   "source": [
    "# to find subset sum we have three general optimized methods\n",
    "# 1>sort and do it pair wise(two pointer)\n",
    "# 2>sliding window for size k(fixed and continous) \n",
    "# 3>DP for almost every usecase and for variable length sublist"
   ]
  }
 ]
}