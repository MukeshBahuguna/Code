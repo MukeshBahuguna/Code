{
 "metadata": {
  "language_info": {
   "codemirror_mode": {
    "name": "ipython",
    "version": 3
   },
   "file_extension": ".py",
   "mimetype": "text/x-python",
   "name": "python",
   "nbconvert_exporter": "python",
   "pygments_lexer": "ipython3",
   "version": "3.7.2"
  },
  "orig_nbformat": 2,
  "kernelspec": {
   "name": "python372jvsc74a57bd0a2ce78c8f06ce061cf8b891d221f63cb9a07ee8db4d6e63dff496f47d2d55a03",
   "display_name": "Python 3.7.2 32-bit"
  },
  "metadata": {
   "interpreter": {
    "hash": "a2ce78c8f06ce061cf8b891d221f63cb9a07ee8db4d6e63dff496f47d2d55a03"
   }
  }
 },
 "nbformat": 4,
 "nbformat_minor": 2,
 "cells": [
  {
   "cell_type": "markdown",
   "source": [
    "***Dynamic Programming***"
   ],
   "metadata": {}
  },
  {
   "cell_type": "code",
   "execution_count": 79,
   "source": [
    "#0-1 Kanpsack\r\n",
    "#Recursion\r\n",
    "\r\n",
    "def knap(w,v,cap,n):\r\n",
    "    if n==0 or cap==0:\r\n",
    "        return 0\r\n",
    "\r\n",
    "    if w[n - 1] > cap:\r\n",
    "        return knap(w,v,cap,n-1)\r\n",
    "    b=knap(w,v,cap,n-1)\r\n",
    "    a=v[n-1]+ knap(w,v,cap-w[n-1],n-1)\r\n",
    "    return max(a,b)\r\n",
    "print(knap([3,2,1],[4,3,6],5,3))"
   ],
   "outputs": [
    {
     "output_type": "stream",
     "name": "stdout",
     "text": [
      "13\n"
     ]
    }
   ],
   "metadata": {}
  },
  {
   "cell_type": "code",
   "execution_count": null,
   "source": [
    "#0-1 same as Above(rec) Using python slicing \r\n",
    "def knap(w,v,cap):\r\n",
    "    if len(w)==0 or cap==0:\r\n",
    "        return 0\r\n",
    "\r\n",
    "    if w[-1]<=cap:\r\n",
    "        b=knap(w[:-1],v[:-1],cap)  \r\n",
    "        a=v[-1]+ knap(w[:-1],v[:-1],cap-w[-1]) \r\n",
    "        return max(a,b) \r\n",
    "\r\n",
    "    elif w[-1]>cap :\r\n",
    "        return knap(w[:-1],v[:-1],cap)\r\n",
    "print(knap([2,3,1],[4,3,6],6))"
   ],
   "outputs": [],
   "metadata": {}
  },
  {
   "cell_type": "markdown",
   "source": [
    "**0-1 Kanpsack Memoization/top-down**"
   ],
   "metadata": {}
  },
  {
   "cell_type": "code",
   "execution_count": 37,
   "source": [
    "\r\n",
    "n=4\r\n",
    "cap=4\r\n",
    "\r\n",
    "#these vars can be defined statically which depends upon the constraints\r\n",
    "#if lets say n<=100 and cap<=1000\r\n",
    "# so t=[[-1 for i in range(103)] for j in range(1003)]\r\n",
    "\r\n",
    "t=[[-1 for i in range(n+2)] for j in range(cap+2)]\r\n",
    "def knap(w,v,cap,n):\r\n",
    "    if n==0 or cap==0:\r\n",
    "        return 0\r\n",
    "    \r\n",
    "    if t[n][cap]!=-1:\r\n",
    "        return t[n][cap]\r\n",
    "\r\n",
    "    if w[n-1]<=cap:\r\n",
    "        b=knap(w,v,cap,n-1)  \r\n",
    "        a=v[n-1]+ knap(w,v,cap-w[n-1],n-1) \r\n",
    "        t[n][cap]=max(a,b)\r\n",
    "        return t[n][cap]\r\n",
    "\r\n",
    "    elif w[n-1]>cap :\r\n",
    "        t[n][cap]=knap(w,v,cap,n-1)\r\n",
    "        return t[n][cap]\r\n",
    "print(knap([2,1,3],[200,100,300],5,3))\r\n",
    "    \r\n"
   ],
   "outputs": [
    {
     "output_type": "stream",
     "name": "stdout",
     "text": [
      "500\n"
     ]
    }
   ],
   "metadata": {}
  },
  {
   "cell_type": "markdown",
   "source": [
    "**Tabulation or bottom up (DP)**"
   ],
   "metadata": {}
  },
  {
   "cell_type": "code",
   "execution_count": 38,
   "source": [
    "w=5\r\n",
    "n=3\r\n",
    "val=[200,100,300]\r\n",
    "wt=[2,1,3]\r\n",
    "t=[[0 for i in range(w+1)] for j in range(n+1)]\r\n",
    "        \r\n",
    "for i in range(1,n+1):\r\n",
    "    for j in range(1,w+1):\r\n",
    "        if wt[i-1]<=j:\r\n",
    "            t[i][j]=max(val[i-1]+ t[i-1][j-wt[i-1]] , t[i-1][j])\r\n",
    "        else:\r\n",
    "            t[i][j]=t[i-1][j]\r\n",
    "t[n][w]"
   ],
   "outputs": [
    {
     "output_type": "execute_result",
     "data": {
      "text/plain": [
       "500"
      ]
     },
     "metadata": {},
     "execution_count": 38
    }
   ],
   "metadata": {}
  },
  {
   "cell_type": "markdown",
   "source": [
    "**SUBSET SUM PROBLEM**"
   ],
   "metadata": {}
  },
  {
   "cell_type": "code",
   "execution_count": 3,
   "source": [
    "# forget any val array just weight and capacity\r\n",
    "wt=[2,5,3]\r\n",
    "n=len(wt)\r\n",
    "w=9 #sum of subset should be equal to this w\r\n",
    "# the matrix would contain only the bool values \r\n",
    "\r\n",
    "t=[[False for i in range(w+1)] for j in range(n+1)]\r\n",
    "for i in t:\r\n",
    "    i[0]=True\r\n",
    "        \r\n",
    "for i in range(1,n+1):\r\n",
    "    for j in range(1,w+1):\r\n",
    "        if wt[i-1]<=j:\r\n",
    "            t[i][j]=t[i-1][j-wt[i-1]] or t[i-1][j]\r\n",
    "            #print(\"taken\",t[i][j])\r\n",
    "        else:\r\n",
    "            t[i][j]=t[i-1][j]\r\n",
    "            #print(\"Not taken\",t[i][j])\r\n",
    "t[n][w]"
   ],
   "outputs": [
    {
     "output_type": "execute_result",
     "data": {
      "text/plain": [
       "False"
      ]
     },
     "metadata": {},
     "execution_count": 3
    }
   ],
   "metadata": {}
  },
  {
   "cell_type": "code",
   "execution_count": null,
   "source": [
    "# to find subset sum we have three general optimized methods\r\n",
    "# 1>sort and do it pair wise(two pointer)\r\n",
    "# 2>sliding window for size k(fixed and continous) \r\n",
    "# 3>dictionary\r\n",
    "# 4>DP for almost every usecase and for variable length sublist"
   ],
   "outputs": [],
   "metadata": {}
  }
 ]
}