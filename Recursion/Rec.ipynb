{
 "metadata": {
  "language_info": {
   "codemirror_mode": {
    "name": "ipython",
    "version": 3
   },
   "file_extension": ".py",
   "mimetype": "text/x-python",
   "name": "python",
   "nbconvert_exporter": "python",
   "pygments_lexer": "ipython3",
   "version": 3
  },
  "orig_nbformat": 2
 },
 "nbformat": 4,
 "nbformat_minor": 2,
 "cells": [
  {
   "source": [
    "RECURSION BASIC"
   ],
   "cell_type": "markdown",
   "metadata": {}
  },
  {
   "cell_type": "code",
   "execution_count": null,
   "metadata": {},
   "outputs": [],
   "source": [
    "#easy visualization of it is to build a inverted tree to print(the ouput as well as the content in stack at any moment of time)\r\n",
    "def f(n):\r\n",
    "    if n==0:\r\n",
    "        return \r\n",
    "    print(n,end=\" \")\r\n",
    "    f(n-1)\r\n",
    "    print(n,end=\" \")\r\n",
    "    f(n-1)\r\n",
    "    print(n,end=\" \")\r\n",
    "    return \r\n",
    "f(2)"
   ]
  },
  {
   "source": [
    "***Tower of Hanoi***"
   ],
   "cell_type": "markdown",
   "metadata": {}
  },
  {
   "cell_type": "code",
   "execution_count": null,
   "metadata": {},
   "outputs": [],
   "source": [
    "def tow(n,s,b,c):\n",
    "    if n==0:\n",
    "        return \n",
    "\n",
    "    tow(n-1,s,c,b)\n",
    "    print(n,f\"{s} to {b}\")\n",
    "    tow(n-1,c,b,s)\n",
    "tow(3,'a','b','c')"
   ]
  }
 ]
}