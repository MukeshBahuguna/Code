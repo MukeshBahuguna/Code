{
 "metadata": {
  "language_info": {
   "codemirror_mode": {
    "name": "ipython",
    "version": 3
   },
   "file_extension": ".py",
   "mimetype": "text/x-python",
   "name": "python",
   "nbconvert_exporter": "python",
   "pygments_lexer": "ipython3",
   "version": "3.7.2"
  },
  "orig_nbformat": 2,
  "kernelspec": {
   "name": "python372jvsc74a57bd0a2ce78c8f06ce061cf8b891d221f63cb9a07ee8db4d6e63dff496f47d2d55a03",
   "display_name": "Python 3.7.2 32-bit"
  },
  "metadata": {
   "interpreter": {
    "hash": "a2ce78c8f06ce061cf8b891d221f63cb9a07ee8db4d6e63dff496f47d2d55a03"
   }
  }
 },
 "nbformat": 4,
 "nbformat_minor": 2,
 "cells": [
  {
   "source": [
    "<h2>LeetCode Problems</h2>\n"
   ],
   "cell_type": "markdown",
   "metadata": {}
  },
  {
   "source": [
    "**75. Sort Colors** (Using algo similar to Dutch national flag algorithm)\n"
   ],
   "cell_type": "markdown",
   "metadata": {}
  },
  {
   "cell_type": "code",
   "execution_count": 2,
   "metadata": {},
   "outputs": [
    {
     "output_type": "stream",
     "name": "stdout",
     "text": [
      "[0, 0, 1, 1, 1, 1, 2, 2, 2]\n"
     ]
    }
   ],
   "source": [
    "#Take three pointers \n",
    "a=[0,1,1,1,0,1,2,2,2]\n",
    "n=len(a)\n",
    "low=0\n",
    "high=n-1\n",
    "mid=0\n",
    "\n",
    "while mid<=high:\n",
    "    if a[mid]==0:   #for 0\n",
    "        a[mid],a[low]=a[low],a[mid]\n",
    "        low+=1\n",
    "        mid+=1\n",
    "    elif a[mid]==1: #for 1\n",
    "        mid+=1\n",
    "    else:           #for 2\n",
    "        a[mid],a[high]=a[high],a[mid]\n",
    "        high-=\n",
    "print(a)\n",
    "\n"
   ]
  },
  {
   "cell_type": "code",
   "execution_count": null,
   "metadata": {},
   "outputs": [],
   "source": []
  }
 ]
}