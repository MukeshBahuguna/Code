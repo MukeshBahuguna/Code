{
 "metadata": {
  "language_info": {
   "codemirror_mode": {
    "name": "ipython",
    "version": 3
   },
   "file_extension": ".py",
   "mimetype": "text/x-python",
   "name": "python",
   "nbconvert_exporter": "python",
   "pygments_lexer": "ipython3",
   "version": "3.7.2"
  },
  "orig_nbformat": 2,
  "kernelspec": {
   "name": "python372jvsc74a57bd0a2ce78c8f06ce061cf8b891d221f63cb9a07ee8db4d6e63dff496f47d2d55a03",
   "display_name": "Python 3.7.2 32-bit"
  },
  "metadata": {
   "interpreter": {
    "hash": "a2ce78c8f06ce061cf8b891d221f63cb9a07ee8db4d6e63dff496f47d2d55a03"
   }
  }
 },
 "nbformat": 4,
 "nbformat_minor": 2,
 "cells": [
  {
   "source": [
    "<h2>LeetCode Problems</h2>\n"
   ],
   "cell_type": "markdown",
   "metadata": {}
  },
  {
   "source": [
    "**75. Sort Colors** (Using algo similar to Dutch national flag algorithm)\n"
   ],
   "cell_type": "markdown",
   "metadata": {}
  },
  {
   "cell_type": "code",
   "execution_count": 2,
   "metadata": {},
   "outputs": [
    {
     "output_type": "stream",
     "name": "stdout",
     "text": [
      "[0, 0, 1, 1, 1, 1, 2, 2, 2]\n"
     ]
    }
   ],
   "source": [
    "#Take three pointers \n",
    "a=[0,1,1,1,0,1,2,2,2]\n",
    "n=len(a)\n",
    "low=0\n",
    "high=n-1\n",
    "mid=0\n",
    "\n",
    "while mid<=high:\n",
    "    if a[mid]==0:   #for 0\n",
    "        a[mid],a[low]=a[low],a[mid]\n",
    "        low+=1\n",
    "        mid+=1\n",
    "    elif a[mid]==1: #for 1\n",
    "        mid+=1\n",
    "    else:           #for 2\n",
    "        a[mid],a[high]=a[high],a[mid]\n",
    "        high-=\n",
    "print(a)\n",
    "\n"
   ]
  },
  {
   "cell_type": "code",
   "execution_count": 12,
   "metadata": {},
   "outputs": [
    {
     "output_type": "stream",
     "name": "stdout",
     "text": [
      "YES\n",
      "2 4 6 8 1 3 5 11\n",
      "YES\n",
      "2 4 1 5\n",
      "NO\n",
      "NO\n",
      "YES\n",
      "2 4 6 8 10 12 14 16 18 20 22 24 26 28 30 32 34 36 38 40 42 44 46 48 50 52 54 56 58 60 62 64 1 3 5 7 9 11 13 15 17 19 21 23 25 27 29 31 33 35 37 39 41 43 45 47 49 51 53 55 57 59 61 95\n"
     ]
    }
   ],
   "source": [
    "t=int(input())\n",
    "for _ in range(t):\n",
    "    n=int(input())\n",
    "    even=n//2\n",
    "    odd=n//2\n",
    "    sum_odd=odd*odd\n",
    "    sum_even=even*(even+1)\n",
    "    if (n//2) %2==0:\n",
    "        print(\"YES\")\n",
    "        l_even=[i for i in range(2,n+1,2)]\n",
    "        l_odd=[i for i in range(1,n+1,2)]\n",
    "        l_odd[-1]=l_odd[-1]+abs(sum_even-sum_odd)\n",
    "        l=l_even+l_odd\n",
    "        print(*l)\n",
    "    else:\n",
    "        print(\"NO\")\n",
    "\n"
   ]
  },
  {
   "cell_type": "code",
   "execution_count": null,
   "metadata": {},
   "outputs": [],
   "source": []
  }
 ]
}