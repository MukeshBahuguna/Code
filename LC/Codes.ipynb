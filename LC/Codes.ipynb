{
 "cells": [
  {
   "cell_type": "markdown",
   "source": [
    "<h1>LeetCode Problems</h1>\r\n"
   ],
   "metadata": {}
  },
  {
   "cell_type": "markdown",
   "source": [
    "<h2>75. Sort Colors (Using algo similar to Dutch national flag algorithm)\r\n"
   ],
   "metadata": {}
  },
  {
   "cell_type": "code",
   "execution_count": 1,
   "source": [
    "#Take three pointers \r\n",
    "a=[0,1,1,1,0,1,2,0,0,1,2,2]\r\n",
    "n=len(a)\r\n",
    "low=0\r\n",
    "high=n-1\r\n",
    "mid=0\r\n",
    "\r\n",
    "while mid<=high:\r\n",
    "    if a[mid]==0:   #for 0\r\n",
    "        a[mid],a[low]=a[low],a[mid]\r\n",
    "        low+=1\r\n",
    "        mid+=1\r\n",
    "    elif a[mid]==1: #for 1\r\n",
    "        mid+=1\r\n",
    "    else:           #for 2\r\n",
    "        a[mid],a[high]=a[high],a[mid]\r\n",
    "        high-=1\r\n",
    "print(a)\r\n",
    "\r\n"
   ],
   "outputs": [
    {
     "output_type": "stream",
     "name": "stdout",
     "text": [
      "[0, 0, 0, 0, 1, 1, 1, 1, 1, 2, 2, 2]\n"
     ]
    }
   ],
   "metadata": {}
  },
  {
   "cell_type": "code",
   "execution_count": 2,
   "source": [
    "#Boyer Moore's Voting Algorithm\r\n",
    "#Without extra space and ,\r\n",
    "#given that majority element exists only then apply this algo. \r\n",
    "\r\n",
    "#orderd from optimal to brute .\r\n",
    "#intuition is in iterating and getting majority in suffix part. \r\n",
    "\r\n",
    "class Solution:\r\n",
    "    def majorityElement(self, a: list) -> int:\r\n",
    "        c=el=0\r\n",
    "        for item in a:\r\n",
    "            if c==0:\r\n",
    "                el = item\r\n",
    "            if el == item:\r\n",
    "                c+=1\r\n",
    "            else:\r\n",
    "                c-=1\r\n",
    "        return el\r\n",
    "    def majorityElement1(self, a: list) -> int:\r\n",
    "        nums.sort()\r\n",
    "        return nums[len(nums)//2]\r\n",
    "    \r\n",
    "o=Solution()\r\n",
    "o.majorityElement([7,7,5,5,7])\r\n",
    "\r\n",
    "# third one using dict obviosly :D --> O(n)   \r\n",
    "#forth using brute -->O(n^2)"
   ],
   "outputs": [
    {
     "output_type": "execute_result",
     "data": {
      "text/plain": [
       "7"
      ]
     },
     "metadata": {},
     "execution_count": 2
    }
   ],
   "metadata": {}
  },
  {
   "cell_type": "markdown",
   "source": [
    "<h3>THIS ONE WILL NEED SOME GOOD AMOUNT OF THINKING"
   ],
   "metadata": {}
  },
  {
   "cell_type": "code",
   "execution_count": 3,
   "source": [
    "#Count the number of subarrays having a given XOR  #find xor==k\r\n",
    "#intuition is two divide this question in two parts #1 and #2--> y^k=x or y=x^k it works :)\r\n",
    "def check(l,k): \r\n",
    "    c=0\r\n",
    "    x=0\r\n",
    "    d={}\r\n",
    "    for i in l:\r\n",
    "        x ^= i            # 1\r\n",
    "        if x==k:\r\n",
    "            c+=1\r\n",
    "        # as y=x ^ k\r\n",
    "        if x^k in d:      #2\r\n",
    "            c+=d[x^k]\r\n",
    "        if x in d:\r\n",
    "            d[x]+=1\r\n",
    "        else:\r\n",
    "            d[x]=1\r\n",
    "    return c\r\n",
    "print(check([4,2,2,6,4],6))"
   ],
   "outputs": [
    {
     "output_type": "stream",
     "name": "stdout",
     "text": [
      "4\n"
     ]
    }
   ],
   "metadata": {}
  },
  {
   "cell_type": "code",
   "execution_count": null,
   "source": [
    "#inversion count  (based on merge sort)\r\n",
    "class op:\r\n",
    "    def inversionCount(self, arr, n):\r\n",
    "        # Your Code Here\r\n",
    "        def merge(a,t,left,mid,right):\r\n",
    "            i=left\r\n",
    "            j=mid\r\n",
    "            k=left\r\n",
    "            l=[]\r\n",
    "            inv_count=0\r\n",
    "            while i<=mid and j<=right:\r\n",
    "                if a[i]<=a[j]:\r\n",
    "                    l.append(a[i])\r\n",
    "                    i+=1\r\n",
    "                    k+=1\r\n",
    "                else:\r\n",
    "                    l.append(a[j])\r\n",
    "                    j+=1\r\n",
    "                    k+=1\r\n",
    "                    inv_count+=(mid-i) # all elements on right will form valid pair\r\n",
    "            while i<=mid:\r\n",
    "                l.append(a[i])\r\n",
    "                i+=1\r\n",
    "            while j<=right:\r\n",
    "                l.append(a[j])\r\n",
    "                j+=1\r\n",
    "            for i in range(left,right+1):\r\n",
    "                a[i]=l[i]\r\n",
    "            return inv_count\r\n",
    "        \r\n",
    "        def merge_sort(a,t,left,right):\r\n",
    "            inv_count=0\r\n",
    "            if left < right:\r\n",
    "                mid=(left+right)//2\r\n",
    "                inv_count+=merge_sort(a,t,left,mid) \r\n",
    "    \r\n",
    "                inv_count+=merge_sort(a,t,mid+1,right) \r\n",
    "                \r\n",
    "                inv_count+=merge(a,t,left,mid+1,right)\r\n",
    "            return 0\r\n",
    "        \r\n",
    "        return merge_sort(arr,t,0,len(arr)-1)\r\n",
    "\r\n",
    "o=op()\r\n",
    "o.inversionCount([2,3,1,4,5], 5)"
   ],
   "outputs": [],
   "metadata": {}
  },
  {
   "cell_type": "code",
   "execution_count": 6,
   "source": [
    "#3 sum :) #2 sum and 4 sum also has similar logic :D\r\n",
    "from typing import *\r\n",
    "class Solution:\r\n",
    "    def threeSum(self, nums: List[int]) -> List[List[int]]:\r\n",
    "        res = []\r\n",
    "        nums.sort()\r\n",
    "        for i in range(len(nums)-2):           # 1\r\n",
    "            if i > 0 and nums[i] == nums[i-1]:\r\n",
    "                continue\r\n",
    "            l, r = i+1, len(nums)-1            # 2 pointer\r\n",
    "            while l < r:\r\n",
    "                s = nums[i] + nums[l] + nums[r]\r\n",
    "                if s < 0:\r\n",
    "                    l +=1 \r\n",
    "                elif s > 0:\r\n",
    "                    r -= 1\r\n",
    "                else:\r\n",
    "                    res.append((nums[i], nums[l], nums[r]))\r\n",
    "                    while l < r and nums[l] == nums[l+1]:\r\n",
    "                        l += 1\r\n",
    "                    while l < r and nums[r] == nums[r-1]:\r\n",
    "                        r -= 1\r\n",
    "                    l += 1; r -= 1\r\n",
    "        return res\r\n",
    "o=Solution()\r\n",
    "nums=[-1,-1,0,1,4,2]\r\n",
    "print(o.threeSum(nums))\r\n"
   ],
   "outputs": [
    {
     "output_type": "stream",
     "name": "stdout",
     "text": [
      "[(-1, -1, 2), (-1, 0, 1)]\n"
     ]
    }
   ],
   "metadata": {}
  },
  {
   "cell_type": "code",
   "execution_count": null,
   "source": [
    "#trapping rain water\r\n",
    "#brute\r\n",
    "def trap(a,n):\r\n",
    "    n=len(a)\r\n",
    "    maxx=0\r\n",
    "    leftmax=rightmax=0\r\n",
    "    for i in range(n):\r\n",
    "        leftmax=max(leftmax,a[i])\r\n",
    "        rightmax=max(a[i:])\r\n",
    "        maxx+=min(leftmax,rightmax)-a[i]\r\n",
    "    return maxx\r\n",
    "\r\n",
    "#prefix sum to convert complexity if above brute to be better\r\n",
    "def trap(a,n):\r\n",
    "    n=len(a)\r\n",
    "    maxx=0\r\n",
    "    pref=[0]*n\r\n",
    "    suff=[0]*n\r\n",
    "    for i in range(n):\r\n",
    "        maxx=max(maxx,a[i])\r\n",
    "        pref[i]=maxx\r\n",
    "    maxx=0\r\n",
    "    for i in range(n-1,-1,-1):\r\n",
    "        maxx=max(maxx,a[i])\r\n",
    "        suff[i]=maxx\r\n",
    "    return sum((min(pref[i],suff[i])-a[i]) for i in range(n))\r\n",
    "\r\n",
    "#optimal -->two pointer technique\r\n",
    "class Solution:\r\n",
    "    def trap(self, a: List[int]) -> int:\r\n",
    "        n=len(a)\r\n",
    "        i=0\r\n",
    "        j=n-1\r\n",
    "        res=0\r\n",
    "        leftmax=rightmax=0\r\n",
    "        while i<j:\r\n",
    "            if a[i]<=a[j]:        #1\r\n",
    "                if a[i]>=leftmax:\r\n",
    "                    leftmax=a[i]   #**\r\n",
    "                else:\r\n",
    "                    res+=(leftmax-a[i])\r\n",
    "                i+=1\r\n",
    "            else:                 # if a[i]>a[j]   #2\r\n",
    "                if a[j]>=rightmax:\r\n",
    "                    rightmax=a[j]  #**\r\n",
    "                else:\r\n",
    "                    res+=(rightmax-a[j])\r\n",
    "                j-=1\r\n",
    "        return res\r\n",
    "                "
   ],
   "outputs": [],
   "metadata": {}
  },
  {
   "cell_type": "code",
   "execution_count": 17,
   "source": [
    "#GREEDY SECTION\r\n",
    "\r\n",
    "class Solution:    \r\n",
    "    def minimumPlatform(self,n,arr,dep):\r\n",
    "        arr.sort()\r\n",
    "        dep.sort()\r\n",
    "        j=0\r\n",
    "        plat=1\r\n",
    "        maxx=1\r\n",
    "        i=1\r\n",
    "        while i<n and j<n:\r\n",
    "            if arr[i]<=dep[j]:\r\n",
    "                plat+=1\r\n",
    "                i+=1\r\n",
    "            else:\r\n",
    "                \r\n",
    "                plat-=1\r\n",
    "                j+=1\r\n",
    "            maxx=max(plat,maxx)\r\n",
    "        return maxx\r\n",
    "import atexit\r\n",
    "import io\r\n",
    "import sys\r\n",
    "\r\n",
    "if __name__ == '__main__':\r\n",
    "    test_cases = int(input())\r\n",
    "    for _ in range(test_cases):\r\n",
    "        n = int(input())\r\n",
    "        arrival = list(map(int, input().strip().split()))\r\n",
    "        departure = list(map(int, input().strip().split()))\r\n",
    "        ob=Solution()\r\n",
    "        print(ob.minimumPlatform(n,arrival,departure))"
   ],
   "outputs": [
    {
     "output_type": "execute_result",
     "data": {
      "text/plain": [
       "41"
      ]
     },
     "metadata": {},
     "execution_count": 17
    }
   ],
   "metadata": {}
  },
  {
   "cell_type": "code",
   "execution_count": 11,
   "source": [
    "def binary_search_count(array, target):\r\n",
    "        \"\"\" Returns number of elements <= target in sorted array.\r\n",
    "        Time complexity: O(log(n)). Space complexity: O(1), n is len(array).\r\n",
    "        \"\"\"\r\n",
    "        # special case\r\n",
    "        if target < array[0]:  # target is less than min element\r\n",
    "            return 0\r\n",
    "\r\n",
    "        n = len(array)\r\n",
    "        start, end = 0, n - 1\r\n",
    "        while start < end:\r\n",
    "            mid = (start + end +1) // 2\r\n",
    "            if target < array[mid]:\r\n",
    "                end = mid - 1\r\n",
    "            else:\r\n",
    "                start = mid\r\n",
    "        return start+1\r\n",
    "print(binary_search_count([1,2,5,6,7,8,9], 6))"
   ],
   "outputs": [
    {
     "output_type": "stream",
     "name": "stdout",
     "text": [
      "4\n"
     ]
    }
   ],
   "metadata": {}
  },
  {
   "cell_type": "code",
   "execution_count": 4,
   "source": [
    "#Search in a 2_D matrix\r\n",
    "\r\n",
    "# n * m matrix convert to an array => matrix[x][y] => a[x * m + y]\r\n",
    "# an array convert to n * m matrix => a[x] =>matrix[x / m][x % m]\r\n",
    "from typing import *\r\n",
    "\r\n",
    "class Solution:\r\n",
    "    def searchMatrix(self, a: List[List[int]], target: int) -> bool:\r\n",
    "        n=len(a)\r\n",
    "        m=len(a[0])\r\n",
    "        i=0\r\n",
    "        j=(m*n)-1\r\n",
    "        while i<=j:\r\n",
    "            mid=(i+j)//2\r\n",
    "            if a[mid//m][mid%m]==target:\r\n",
    "                return True\r\n",
    "            elif a[mid//m][mid%m] <target:\r\n",
    "                i=(mid)+1\r\n",
    "            else:\r\n",
    "                j=(mid)-1\r\n",
    "        return False\r\n",
    "\r\n",
    "c=Solution()\r\n",
    "x=c.searchMatrix(a=[[1,2,3],[4,5,6],[7,8,9]], target=5)\r\n",
    "print(x)"
   ],
   "outputs": [
    {
     "output_type": "stream",
     "name": "stdout",
     "text": [
      "True\n"
     ]
    }
   ],
   "metadata": {}
  },
  {
   "cell_type": "code",
   "execution_count": null,
   "source": [
    "class Solution:\r\n",
    "    def maxArea(self,M, n, m):\r\n",
    "        # code here\r\n",
    "        #for adding rows accordingly\r\n",
    "        heights=[]\r\n",
    "        for i in M:\r\n",
    "            if not heights:\r\n",
    "                heights.append(M[0])\r\n",
    "            else:\r\n",
    "                g=[]\r\n",
    "                for j in range(len(M[0])):\r\n",
    "                    if i[j]!=0:\r\n",
    "                        g.append(heights[-1][j]+i[j])\r\n",
    "                    else:\r\n",
    "                        g.append(0)\r\n",
    "                heights.append(g)\r\n",
    "            \r\n",
    "        #maxhist function\r\n",
    "        def maxhist(heights):\r\n",
    "            stack, ans = [], 0\r\n",
    "            for i, h in enumerate(heights + [0]):\r\n",
    "                while stack and heights[stack[-1]] >= h:\r\n",
    "                    H = heights[stack.pop()]\r\n",
    "                    W = i if not stack else i-stack[-1]-1\r\n",
    "                    ans = max(ans, H*W)\r\n",
    "                stack.append(i)\r\n",
    "            \r\n",
    "            return ans\r\n",
    "                \r\n",
    "        # for every manipulated row that is there in heights array\r\n",
    "        maxx=0\r\n",
    "        for i in heights:\r\n",
    "            maxx=max(maxx,maxhist(i))\r\n",
    "        return maxx\r\n",
    "\r\n",
    "if __name__ == '__main__':\r\n",
    "    t=int(input())\r\n",
    "    for _ in range(t):\r\n",
    "        R,C = map(int, input().strip().split())\r\n",
    "        A = []\r\n",
    "        for _ in range(R):\r\n",
    "            line = [int(x) for x in input().strip().split()]\r\n",
    "            A.append(line)\r\n",
    "        print(Solution().maxArea(A, R, C))  "
   ],
   "outputs": [],
   "metadata": {}
  },
  {
   "cell_type": "code",
   "execution_count": null,
   "source": [
    "#median in a row wise sorted matrix\r\n",
    "\r\n",
    "import bisect \r\n",
    "\r\n",
    "#better not optimal\r\n",
    "class Solution:\r\n",
    "    def median(self, a, r, c):\r\n",
    "        #code here \r\n",
    "        mn=float(\"inf\")\r\n",
    "        mx=float(\"-inf\")\r\n",
    "        for i in range(r):\r\n",
    "           mn=min(mn,a[i][0])  # for min look at the 0th\r\n",
    "           mx=max(mx,a[i][-1])\r\n",
    "        \r\n",
    "        desired=((r*c)+1)//2        \r\n",
    "\r\n",
    "        while mn<mx:\r\n",
    "            mid=(mx+mn)//2\r\n",
    "            \r\n",
    "            count=0           # make this part better from O(r*c)\r\n",
    "            for i in range(r):\r\n",
    "                for j in range(c):\r\n",
    "                    if a[i][j]<=mid:\r\n",
    "                        count+=1\r\n",
    "\r\n",
    "            if count<desired:\r\n",
    "                mn=mid+1\r\n",
    "            else:\r\n",
    "                mx=mid\r\n",
    "        return mn\r\n",
    "        \r\n",
    "    \r\n",
    "\r\n",
    "    def median1(self, matrix, r, c):\r\n",
    "        mn=float(\"inf\")\r\n",
    "        mx=float(\"-inf\")\r\n",
    "        for i in range(r):\r\n",
    "           mn=min(mn,matrix[i][0])  # for min look at the 0th\r\n",
    "           mx=max(mx,matrix[i][-1])\r\n",
    "        lo, hi = mn ,mx\r\n",
    "        des=(r*c+1)//2\r\n",
    "        while lo<hi:\r\n",
    "            mid = (lo+hi)//2\r\n",
    "            if sum(bisect.bisect_right(row, mid) for row in matrix) < des : \r\n",
    "                lo = mid+1\r\n",
    "            else:\r\n",
    "                hi = mid\r\n",
    "        return lo\r\n",
    "\r\n",
    "\r\n",
    " \r\n",
    "# Driver Code Starts\r\n",
    "#Initial Template for Python 3\r\n",
    "if __name__ == '__main__': \r\n",
    "    ob = Solution()\r\n",
    "    t = int (input ())\r\n",
    "    for _ in range (t):\r\n",
    "        r,c = map(int,input().strip().split())\r\n",
    "        matrix = [[0 for j in range(c)] for i in range(r)]\r\n",
    "        line1 = [int(x) for x in input().strip().split()]       \r\n",
    "        k = 0\r\n",
    "        for i in range(r):\r\n",
    "            for j in range (c):\r\n",
    "                matrix[i][j]=line1[k]\r\n",
    "                k+=1\r\n",
    "        ans = ob.median(matrix, r, c);\r\n",
    "        print(ans)"
   ],
   "outputs": [],
   "metadata": {}
  },
  {
   "cell_type": "code",
   "execution_count": 9,
   "source": [
    "# Find kth smallest in a row -column wise sorted matrix\r\n",
    "\r\n",
    "# This is connected with the above one \r\n",
    "class Solution:\r\n",
    "    def kthSmallest(self, matrix, k):\r\n",
    "        lo, hi = matrix[0][0], matrix[-1][-1]\r\n",
    "        while lo<hi:\r\n",
    "            mid = (lo+hi)//2\r\n",
    "            if sum(bisect.bisect_right(row, mid) for row in matrix) < k:\r\n",
    "                lo = mid+1\r\n",
    "            else:\r\n",
    "                hi = mid\r\n",
    "        return lo"
   ],
   "outputs": [],
   "metadata": {}
  },
  {
   "cell_type": "code",
   "execution_count": null,
   "source": [],
   "outputs": [],
   "metadata": {}
  }
 ],
 "metadata": {
  "interpreter": {
   "hash": "a2ce78c8f06ce061cf8b891d221f63cb9a07ee8db4d6e63dff496f47d2d55a03"
  },
  "kernelspec": {
   "name": "python3",
   "display_name": "Python 3.7.2 32-bit"
  },
  "language_info": {
   "codemirror_mode": {
    "name": "ipython",
    "version": 3
   },
   "file_extension": ".py",
   "mimetype": "text/x-python",
   "name": "python",
   "nbconvert_exporter": "python",
   "pygments_lexer": "ipython3",
   "version": "3.7.2"
  },
  "metadata": {
   "interpreter": {
    "hash": "a2ce78c8f06ce061cf8b891d221f63cb9a07ee8db4d6e63dff496f47d2d55a03"
   }
  },
  "orig_nbformat": 2
 },
 "nbformat": 4,
 "nbformat_minor": 2
}