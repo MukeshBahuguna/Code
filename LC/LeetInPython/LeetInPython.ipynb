{
 "cells": [
  {
   "cell_type": "markdown",
   "metadata": {},
   "source": [
    "<h1>LeetCode Problems</h1>\n"
   ]
  },
  {
   "cell_type": "markdown",
   "metadata": {},
   "source": [
    "<h2>75. Sort Colors (Using algo similar to Dutch national flag algorithm)\n"
   ]
  },
  {
   "cell_type": "code",
   "execution_count": 1,
   "metadata": {},
   "outputs": [
    {
     "name": "stdout",
     "output_type": "stream",
     "text": [
      "[0, 0, 0, 0, 1, 1, 1, 1, 1, 2, 2, 2]\n"
     ]
    }
   ],
   "source": [
    "#Take three pointers \n",
    "a=[0,1,1,1,0,1,2,0,0,1,2,2]\n",
    "n=len(a)\n",
    "low=0\n",
    "high=n-1\n",
    "mid=0\n",
    "\n",
    "while mid<=high:\n",
    "    if a[mid]==0:   #for 0\n",
    "        a[mid],a[low]=a[low],a[mid]\n",
    "        low+=1\n",
    "        mid+=1\n",
    "    elif a[mid]==1: #for 1\n",
    "        mid+=1\n",
    "    else:           #for 2\n",
    "        a[mid],a[high]=a[high],a[mid]\n",
    "        high-=1\n",
    "print(a)\n",
    "\n"
   ]
  },
  {
   "cell_type": "code",
   "execution_count": 2,
   "metadata": {},
   "outputs": [
    {
     "data": {
      "text/plain": [
       "7"
      ]
     },
     "execution_count": 2,
     "metadata": {},
     "output_type": "execute_result"
    }
   ],
   "source": [
    "#Boyer Moore's Voting Algorithm\n",
    "#Without extra space and ,\n",
    "#given that majority element exists only then apply this algo. \n",
    "\n",
    "#orderd from optimal to brute .\n",
    "#intuition is in iterating and getting majority in suffix part. \n",
    "\n",
    "class Solution:\n",
    "    def majorityElement(self, a: list) -> int:\n",
    "        c=el=0\n",
    "        for item in a:\n",
    "            if c==0:\n",
    "                el = item\n",
    "            if el == item:\n",
    "                c+=1\n",
    "            else:\n",
    "                c-=1\n",
    "        return el\n",
    "    def majorityElement1(self, a: list) -> int:\n",
    "        nums.sort()\n",
    "        return nums[len(nums)//2]\n",
    "    \n",
    "o=Solution()\n",
    "o.majorityElement([7,7,5,5,7])\n",
    "\n",
    "# third one using dict obviosly :D --> O(n)   \n",
    "#forth using brute -->O(n^2)"
   ]
  },
  {
   "cell_type": "markdown",
   "metadata": {},
   "source": [
    "<h3>THIS ONE WILL NEED SOME GOOD AMOUNT OF THINKING"
   ]
  },
  {
   "cell_type": "code",
   "execution_count": 3,
   "metadata": {},
   "outputs": [
    {
     "name": "stdout",
     "output_type": "stream",
     "text": [
      "4\n"
     ]
    }
   ],
   "source": [
    "#Count the number of subarrays having a given XOR  #find xor==k\n",
    "#intuition is two divide this question in two parts #1 and #2--> y^k=x or y=x^k it works :)\n",
    "def check(l,k): \n",
    "    c=0\n",
    "    x=0\n",
    "    d={}\n",
    "    for i in l:\n",
    "        x ^= i            # 1\n",
    "        if x==k:\n",
    "            c+=1\n",
    "        # as y=x ^ k\n",
    "        if x^k in d:      #2\n",
    "            c+=d[x^k]\n",
    "        if x in d:\n",
    "            d[x]+=1\n",
    "        else:\n",
    "            d[x]=1\n",
    "    return c\n",
    "print(check([4,2,2,6,4],6))"
   ]
  },
  {
   "cell_type": "code",
   "execution_count": null,
   "metadata": {},
   "outputs": [],
   "source": [
    "#inversion count  (based on merge sort)\n",
    "class op:\n",
    "    def inversionCount(self, arr, n):\n",
    "        # Your Code Here\n",
    "        def merge(a,t,left,mid,right):\n",
    "            i=left\n",
    "            j=mid\n",
    "            k=left\n",
    "            l=[]\n",
    "            inv_count=0\n",
    "            while i<=mid and j<=right:\n",
    "                if a[i]<=a[j]:\n",
    "                    l.append(a[i])\n",
    "                    i+=1\n",
    "                    k+=1\n",
    "                else:\n",
    "                    l.append(a[j])\n",
    "                    j+=1\n",
    "                    k+=1\n",
    "                    inv_count+=(mid-i) # all elements on right will form valid pair\n",
    "            while i<=mid:\n",
    "                l.append(a[i])\n",
    "                i+=1\n",
    "            while j<=right:\n",
    "                l.append(a[j])\n",
    "                j+=1\n",
    "            for i in range(left,right+1):\n",
    "                a[i]=l[i]\n",
    "            return inv_count\n",
    "        \n",
    "        def merge_sort(a,t,left,right):\n",
    "            inv_count=0\n",
    "            if left < right:\n",
    "                mid=(left+right)//2\n",
    "                inv_count+=merge_sort(a,t,left,mid) \n",
    "    \n",
    "                inv_count+=merge_sort(a,t,mid+1,right) \n",
    "                \n",
    "                inv_count+=merge(a,t,left,mid+1,right)\n",
    "            return 0\n",
    "        \n",
    "        return merge_sort(arr,t,0,len(arr)-1)\n",
    "\n",
    "o=op()\n",
    "o.inversionCount([2,3,1,4,5], 5)"
   ]
  },
  {
   "cell_type": "code",
   "execution_count": 6,
   "metadata": {},
   "outputs": [
    {
     "name": "stdout",
     "output_type": "stream",
     "text": [
      "[(-1, -1, 2), (-1, 0, 1)]\n"
     ]
    }
   ],
   "source": [
    "#3 sum :) #2 sum and 4 sum also has similar logic :D\n",
    "from typing import *\n",
    "class Solution:\n",
    "    def threeSum(self, nums: List[int]) -> List[List[int]]:\n",
    "        res = []\n",
    "        nums.sort()\n",
    "        for i in range(len(nums)-2):           # 1\n",
    "            if i > 0 and nums[i] == nums[i-1]:\n",
    "                continue\n",
    "            l, r = i+1, len(nums)-1            # 2 pointer\n",
    "            while l < r:\n",
    "                s = nums[i] + nums[l] + nums[r]\n",
    "                if s < 0:\n",
    "                    l +=1 \n",
    "                elif s > 0:\n",
    "                    r -= 1\n",
    "                else:\n",
    "                    res.append((nums[i], nums[l], nums[r]))\n",
    "                    while l < r and nums[l] == nums[l+1]:\n",
    "                        l += 1\n",
    "                    while l < r and nums[r] == nums[r-1]:\n",
    "                        r -= 1\n",
    "                    l += 1; r -= 1\n",
    "        return res\n",
    "o=Solution()\n",
    "nums=[-1,-1,0,1,4,2]\n",
    "print(o.threeSum(nums))\n"
   ]
  },
  {
   "cell_type": "code",
   "execution_count": null,
   "metadata": {},
   "outputs": [],
   "source": [
    "#trapping rain water\n",
    "#brute\n",
    "def trap(a,n):\n",
    "    n=len(a)\n",
    "    maxx=0\n",
    "    leftmax=rightmax=0\n",
    "    for i in range(n):\n",
    "        leftmax=max(leftmax,a[i])\n",
    "        rightmax=max(a[i:])\n",
    "        maxx+=min(leftmax,rightmax)-a[i]\n",
    "    return maxx\n",
    "\n",
    "#prefix sum to convert complexity if above brute to be better\n",
    "def trap(a,n):\n",
    "    n=len(a)\n",
    "    maxx=0\n",
    "    pref=[0]*n\n",
    "    suff=[0]*n\n",
    "    for i in range(n):\n",
    "        maxx=max(maxx,a[i])\n",
    "        pref[i]=maxx\n",
    "    maxx=0\n",
    "    for i in range(n-1,-1,-1):\n",
    "        maxx=max(maxx,a[i])\n",
    "        suff[i]=maxx\n",
    "    return sum((min(pref[i],suff[i])-a[i]) for i in range(n))\n",
    "\n",
    "#optimal -->two pointer technique\n",
    "class Solution:\n",
    "    def trap(self, a: List[int]) -> int:\n",
    "        n=len(a)\n",
    "        i=0\n",
    "        j=n-1\n",
    "        res=0\n",
    "        leftmax=rightmax=0\n",
    "        while i<j:\n",
    "            if a[i]<=a[j]:        #1\n",
    "                if a[i]>=leftmax:\n",
    "                    leftmax=a[i]   #**\n",
    "                else:\n",
    "                    res+=(leftmax-a[i])\n",
    "                i+=1\n",
    "            else:                 # if a[i]>a[j]   #2\n",
    "                if a[j]>=rightmax:\n",
    "                    rightmax=a[j]  #**\n",
    "                else:\n",
    "                    res+=(rightmax-a[j])\n",
    "                j-=1\n",
    "        return res\n",
    "                "
   ]
  },
  {
   "cell_type": "code",
   "execution_count": 17,
   "metadata": {},
   "outputs": [
    {
     "data": {
      "text/plain": [
       "41"
      ]
     },
     "execution_count": 17,
     "metadata": {},
     "output_type": "execute_result"
    }
   ],
   "source": [
    "#GREEDY SECTION\n",
    "\n",
    "class Solution:    \n",
    "    def minimumPlatform(self,n,arr,dep):\n",
    "        arr.sort()\n",
    "        dep.sort()\n",
    "        j=0\n",
    "        plat=1\n",
    "        maxx=1\n",
    "        i=1\n",
    "        while i<n and j<n:\n",
    "            if arr[i]<=dep[j]:\n",
    "                plat+=1\n",
    "                i+=1\n",
    "            else:\n",
    "                \n",
    "                plat-=1\n",
    "                j+=1\n",
    "            maxx=max(plat,maxx)\n",
    "        return maxx\n",
    "import atexit\n",
    "import io\n",
    "import sys\n",
    "\n",
    "if __name__ == '__main__':\n",
    "    test_cases = int(input())\n",
    "    for _ in range(test_cases):\n",
    "        n = int(input())\n",
    "        arrival = list(map(int, input().strip().split()))\n",
    "        departure = list(map(int, input().strip().split()))\n",
    "        ob=Solution()\n",
    "        print(ob.minimumPlatform(n,arrival,departure))"
   ]
  },
  {
   "cell_type": "code",
   "execution_count": 11,
   "metadata": {},
   "outputs": [
    {
     "name": "stdout",
     "output_type": "stream",
     "text": [
      "4\n"
     ]
    }
   ],
   "source": [
    "def binary_search_count(array, target):\n",
    "        \"\"\" Returns number of elements <= target in sorted array.\n",
    "        Time complexity: O(log(n)). Space complexity: O(1), n is len(array).\n",
    "        \"\"\"\n",
    "        # special case\n",
    "        if target < array[0]:  # target is less than min element\n",
    "            return 0\n",
    "\n",
    "        n = len(array)\n",
    "        start, end = 0, n - 1\n",
    "        while start < end:\n",
    "            mid = (start + end +1) // 2\n",
    "            if target < array[mid]:\n",
    "                end = mid - 1\n",
    "            else:\n",
    "                start = mid\n",
    "        return start+1\n",
    "print(binary_search_count([1,2,5,6,7,8,9], 6))"
   ]
  },
  {
   "cell_type": "code",
   "execution_count": 4,
   "metadata": {},
   "outputs": [
    {
     "name": "stdout",
     "output_type": "stream",
     "text": [
      "True\n"
     ]
    }
   ],
   "source": [
    "#Search in a 2_D matrix\n",
    "\n",
    "# n * m matrix convert to an array => matrix[x][y] => a[x * m + y]\n",
    "# an array convert to n * m matrix => a[x] =>matrix[x / m][x % m]\n",
    "from typing import *\n",
    "\n",
    "class Solution:\n",
    "    def searchMatrix(self, a: List[List[int]], target: int) -> bool:\n",
    "        n=len(a)\n",
    "        m=len(a[0])\n",
    "        i=0\n",
    "        j=(m*n)-1\n",
    "        while i<=j:\n",
    "            mid=(i+j)//2\n",
    "            if a[mid//m][mid%m]==target:\n",
    "                return True\n",
    "            elif a[mid//m][mid%m] <target:\n",
    "                i=(mid)+1\n",
    "            else:\n",
    "                j=(mid)-1\n",
    "        return False\n",
    "\n",
    "c=Solution()\n",
    "x=c.searchMatrix(a=[[1,2,3],[4,5,6],[7,8,9]], target=5)\n",
    "print(x)"
   ]
  },
  {
   "cell_type": "code",
   "execution_count": null,
   "metadata": {},
   "outputs": [],
   "source": [
    "class Solution:\n",
    "    def maxArea(self,M, n, m):\n",
    "        # code here\n",
    "        #for adding rows accordingly\n",
    "        heights=[]\n",
    "        for i in M:\n",
    "            if not heights:\n",
    "                heights.append(M[0])\n",
    "            else:\n",
    "                g=[]\n",
    "                for j in range(len(M[0])):\n",
    "                    if i[j]!=0:\n",
    "                        g.append(heights[-1][j]+i[j])\n",
    "                    else:\n",
    "                        g.append(0)\n",
    "                heights.append(g)\n",
    "            \n",
    "        #maxhist function\n",
    "        def maxhist(heights):\n",
    "            stack, ans = [], 0\n",
    "            for i, h in enumerate(heights + [0]):\n",
    "                while stack and heights[stack[-1]] >= h:\n",
    "                    H = heights[stack.pop()]\n",
    "                    W = i if not stack else i-stack[-1]-1\n",
    "                    ans = max(ans, H*W)\n",
    "                stack.append(i)\n",
    "            \n",
    "            return ans\n",
    "                \n",
    "        # for every manipulated row that is there in heights array\n",
    "        maxx=0\n",
    "        for i in heights:\n",
    "            maxx=max(maxx,maxhist(i))\n",
    "        return maxx\n",
    "\n",
    "if __name__ == '__main__':\n",
    "    t=int(input())\n",
    "    for _ in range(t):\n",
    "        R,C = map(int, input().strip().split())\n",
    "        A = []\n",
    "        for _ in range(R):\n",
    "            line = [int(x) for x in input().strip().split()]\n",
    "            A.append(line)\n",
    "        print(Solution().maxArea(A, R, C))  "
   ]
  },
  {
   "cell_type": "code",
   "execution_count": 1,
   "metadata": {},
   "outputs": [
    {
     "name": "stdout",
     "output_type": "stream",
     "text": [
      "2\n"
     ]
    }
   ],
   "source": [
    "#median in a row wise sorted matrix\n",
    "\n",
    "import bisect \n",
    "\n",
    "#better not optimal\n",
    "class Solution:\n",
    "    def median(self, a, r, c):\n",
    "        #code here \n",
    "        mn=float(\"inf\")\n",
    "        mx=float(\"-inf\")\n",
    "        for i in range(r):\n",
    "           mn=min(mn,a[i][0])  # for min look at the 0th\n",
    "           mx=max(mx,a[i][-1])\n",
    "        \n",
    "        desired=((r*c)+1)//2        \n",
    "\n",
    "        while mn<mx:\n",
    "            mid=(mx+mn)//2\n",
    "            \n",
    "            count=0           # make this part better from O(r*c)\n",
    "            for i in range(r):\n",
    "                for j in range(c):\n",
    "                    if a[i][j]<=mid:\n",
    "                        count+=1\n",
    "\n",
    "            if count<desired:\n",
    "                mn=mid+1\n",
    "            else:\n",
    "                mx=mid\n",
    "        return mn\n",
    "        \n",
    "    \n",
    "\n",
    "    def median1(self, matrix, r, c):\n",
    "        mn=float(\"inf\")\n",
    "        mx=float(\"-inf\")\n",
    "        for i in range(r):\n",
    "           mn=min(mn,matrix[i][0])  # for min look at the 0th\n",
    "           mx=max(mx,matrix[i][-1])\n",
    "        lo, hi = mn ,mx\n",
    "        des=(r*c+1)//2\n",
    "        while lo<hi:\n",
    "            mid = (lo+hi)//2\n",
    "            if sum(bisect.bisect_right(row, mid) for row in matrix) < des : \n",
    "                lo = mid+1\n",
    "            else:\n",
    "                hi = mid\n",
    "        return lo\n",
    "\n",
    "\n",
    " \n",
    "# Driver Code Starts\n",
    "#Initial Template for Python 3\n",
    "if __name__ == '__main__': \n",
    "    ob = Solution()\n",
    "    t = int (input ())\n",
    "    for _ in range (t):\n",
    "        r,c = map(int,input().strip().split())\n",
    "        matrix = [[0 for j in range(c)] for i in range(r)]\n",
    "        line1 = [int(x) for x in input().strip().split()]       \n",
    "        k = 0\n",
    "        for i in range(r):\n",
    "            for j in range (c):\n",
    "                matrix[i][j]=line1[k]\n",
    "                k+=1\n",
    "        ans = ob.median(matrix, r, c);\n",
    "        print(ans)"
   ]
  },
  {
   "cell_type": "code",
   "execution_count": 9,
   "metadata": {},
   "outputs": [],
   "source": [
    "# Find kth smallest in a row -column wise sorted matrix\n",
    "\n",
    "# This is connected with the above one \n",
    "class Solution:\n",
    "    def kthSmallest(self, matrix, k):\n",
    "        lo, hi = matrix[0][0], matrix[-1][-1]\n",
    "        while lo<hi:\n",
    "            mid = (lo+hi)//2\n",
    "            if sum(bisect.bisect_right(row, mid) for row in matrix) < k:\n",
    "                lo = mid+1\n",
    "            else:\n",
    "                hi = mid\n",
    "        return lo"
   ]
  },
  {
   "cell_type": "code",
   "execution_count": 19,
   "metadata": {},
   "outputs": [
    {
     "name": "stdout",
     "output_type": "stream",
     "text": [
      "25\n"
     ]
    }
   ],
   "source": [
    "#TRAILING ZEROES\n",
    "n=6\n",
    "def trail(m,n):\n",
    "    f=5\n",
    "    c=0\n",
    "    while f<=m:\n",
    "        c+=(m//f)\n",
    "        f*=5\n",
    "    return c>=n\n",
    "\n",
    "#bin search\n",
    "l=0\n",
    "r=5*n\n",
    "\n",
    "while l<r:\n",
    "    mid=(l+r)>>1\n",
    "    if trail(mid,n):\n",
    "        r=mid\n",
    "    else:\n",
    "        l=mid+1\n",
    "print(l)"
   ]
  },
  {
   "cell_type": "code",
   "execution_count": 18,
   "metadata": {},
   "outputs": [
    {
     "name": "stdout",
     "output_type": "stream",
     "text": [
      "234\n"
     ]
    }
   ],
   "source": [
    "def quick(arr,l,r):\n",
    "    if l<r:\n",
    "        x=Partition(arr,l,r)\n",
    "        quick(arr,l,x-1)\n",
    "        quick(arr,x+1,r)\n",
    "    \n",
    "    \n",
    "def Partition(arr,l,r):\n",
    "    pivot=arr[l]\n",
    "    i=l\n",
    "    j=r\n",
    "    while i<j:\n",
    "        while i<len(arr) and arr[i]<=pivot:\n",
    "            i+=1 \n",
    "        while arr[j]>pivot:\n",
    "            j-=1\n",
    "            \n",
    "        if i<j:\n",
    "            arr[i],arr[j]=arr[j],arr[i]\n",
    "\n",
    "    arr[l],arr[j]=arr[j],arr[l]\n",
    "    return j\n",
    "\n",
    "arr=[1,4,0,2,3]\n",
    "n=len(arr)\n",
    "quick(arr,0,n-1)\n",
    "print(arr)"
   ]
  },
  {
   "cell_type": "code",
   "execution_count": null,
   "metadata": {},
   "outputs": [],
   "source": [
    "from timeit import timeit\n",
    "# setup = 's = \"Let\\'s take LeetCode contest\"'\n",
    "# statements = (\"' '.join(s.split()[::-1])[::-1]\",\n",
    "# \t          \"' '.join(x[::-1] for x in s.split())\",\n",
    "# \t          \"' '.join([x[::-1] for x in s.split()])\")\n",
    "# for stmt in statements:\n",
    "#     print (' '.join('%.2f' % timeit(stmt, setup) for _ in range(5)), 'seconds for:', stmt)\n",
    "\n",
    "print(' '.join('%.2f' % timeit(5*5) for _ in range(5)))\n",
    "\n",
    "# 0.79 0.78 0.80 0.82 0.79 seconds for: ' '.join(s.split()[::-1])[::-1]\n",
    "# 2.10 2.14 2.08 2.06 2.13 seconds for: ' '.join(x[::-1] for x in s.split())\n",
    "# 1.27 1.26 1.28 1.28 1.26 seconds for: ' '.join([x[::-1] for x in s.split()])"
   ]
  },
  {
   "cell_type": "code",
   "execution_count": 2,
   "metadata": {},
   "outputs": [
    {
     "name": "stdout",
     "output_type": "stream",
     "text": [
      "Max-Heap array: [9, 5, 4, 3, 2]\n",
      "After deleting an element: [9, 5, 2, 3]\n"
     ]
    }
   ],
   "source": [
    "# Max-Heap data structure in Python\n",
    "\n",
    "def heapify(arr, n, i):\n",
    "    largest = i\n",
    "    l = 2 * i + 1\n",
    "    r = 2 * i + 2 \n",
    "    \n",
    "    if l < n and arr[largest] < arr[l]:\n",
    "        largest = l\n",
    "    \n",
    "    if r < n and arr[largest] < arr[r]:\n",
    "        largest = r\n",
    "    \n",
    "    if largest != i:\n",
    "        arr[i],arr[largest] = arr[largest],arr[i]\n",
    "        heapify(arr, n, largest)\n",
    "\n",
    "def insert(array, newNum):\n",
    "    size = len(array)\n",
    "    if size == 0:\n",
    "        array.append(newNum)\n",
    "    else:\n",
    "        array.append(newNum);\n",
    "        for i in range((size//2)-1, -1, -1):\n",
    "            heapify(array, size, i)\n",
    "\n",
    "def deleteNode(array, num):\n",
    "    size = len(array)\n",
    "    i = 0\n",
    "    for i in range(0, size):\n",
    "        if num == array[i]:\n",
    "            break\n",
    "        \n",
    "    array[i], array[size-1] = array[size-1], array[i]\n",
    "\n",
    "    array.remove(num)\n",
    "    \n",
    "    for i in range((len(array)//2)-1, -1, -1):\n",
    "        heapify(array, len(array), i)\n",
    "    \n",
    "arr = []\n",
    "\n",
    "insert(arr, 3)\n",
    "insert(arr, 4)\n",
    "insert(arr, 9)\n",
    "insert(arr, 5)\n",
    "insert(arr, 2)\n",
    "\n",
    "print (\"Max-Heap array: \" + str(arr))\n",
    "\n",
    "deleteNode(arr, 4)\n",
    "print(\"After deleting an element: \" + str(arr))"
   ]
  },
  {
   "cell_type": "code",
   "execution_count": 3,
   "metadata": {},
   "outputs": [
    {
     "name": "stdout",
     "output_type": "stream",
     "text": [
      "2147483648\n"
     ]
    }
   ],
   "source": []
  },
  {
   "cell_type": "code",
   "execution_count": null,
   "metadata": {},
   "outputs": [],
   "source": []
  }
 ],
 "metadata": {
  "interpreter": {
   "hash": "a2ce78c8f06ce061cf8b891d221f63cb9a07ee8db4d6e63dff496f47d2d55a03"
  },
  "kernelspec": {
   "display_name": "Python 3.7.2 32-bit",
   "name": "python3"
  },
  "language_info": {
   "codemirror_mode": {
    "name": "ipython",
    "version": 3
   },
   "file_extension": ".py",
   "mimetype": "text/x-python",
   "name": "python",
   "nbconvert_exporter": "python",
   "pygments_lexer": "ipython3",
   "version": "3.7.2"
  },
  "metadata": {
   "interpreter": {
    "hash": "a2ce78c8f06ce061cf8b891d221f63cb9a07ee8db4d6e63dff496f47d2d55a03"
   }
  },
  "orig_nbformat": 2
 },
 "nbformat": 4,
 "nbformat_minor": 2
}
